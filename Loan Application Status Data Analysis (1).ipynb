{
 "cells": [
  {
   "cell_type": "code",
   "execution_count": 3,
   "id": "4a9ad133-749a-4d6e-81fb-cd4e4facea9f",
   "metadata": {},
   "outputs": [],
   "source": [
    "import pandas as pd\n",
    "import numpy as np\n",
    "import seaborn as sns\n",
    "import matplotlib.pyplot as plt\n",
    "import warnings\n",
    "warnings.filterwarnings('ignore')"
   ]
  },
  {
   "cell_type": "markdown",
   "id": "0793e64d-0ffa-4511-9bd6-18d44da32974",
   "metadata": {},
   "source": [
    "# Reading the csv file"
   ]
  },
  {
   "cell_type": "code",
   "execution_count": 4,
   "id": "8a111936-f72d-430a-aaf8-574c26bca3cc",
   "metadata": {},
   "outputs": [
    {
     "data": {
      "text/html": [
       "<div>\n",
       "<style scoped>\n",
       "    .dataframe tbody tr th:only-of-type {\n",
       "        vertical-align: middle;\n",
       "    }\n",
       "\n",
       "    .dataframe tbody tr th {\n",
       "        vertical-align: top;\n",
       "    }\n",
       "\n",
       "    .dataframe thead th {\n",
       "        text-align: right;\n",
       "    }\n",
       "</style>\n",
       "<table border=\"1\" class=\"dataframe\">\n",
       "  <thead>\n",
       "    <tr style=\"text-align: right;\">\n",
       "      <th></th>\n",
       "      <th>Loan_ID</th>\n",
       "      <th>Gender</th>\n",
       "      <th>Married</th>\n",
       "      <th>Dependents</th>\n",
       "      <th>Education</th>\n",
       "      <th>Self_Employed</th>\n",
       "      <th>ApplicantIncome</th>\n",
       "      <th>CoapplicantIncome</th>\n",
       "      <th>LoanAmount</th>\n",
       "      <th>Loan_Amount_Term</th>\n",
       "      <th>Credit_History</th>\n",
       "      <th>Property_Area</th>\n",
       "      <th>Loan_Status</th>\n",
       "    </tr>\n",
       "  </thead>\n",
       "  <tbody>\n",
       "    <tr>\n",
       "      <th>0</th>\n",
       "      <td>LP001002</td>\n",
       "      <td>Male</td>\n",
       "      <td>No</td>\n",
       "      <td>0</td>\n",
       "      <td>Graduate</td>\n",
       "      <td>No</td>\n",
       "      <td>5849</td>\n",
       "      <td>0.0</td>\n",
       "      <td>NaN</td>\n",
       "      <td>360.0</td>\n",
       "      <td>1.0</td>\n",
       "      <td>Urban</td>\n",
       "      <td>Y</td>\n",
       "    </tr>\n",
       "    <tr>\n",
       "      <th>1</th>\n",
       "      <td>LP001003</td>\n",
       "      <td>Male</td>\n",
       "      <td>Yes</td>\n",
       "      <td>1</td>\n",
       "      <td>Graduate</td>\n",
       "      <td>No</td>\n",
       "      <td>4583</td>\n",
       "      <td>1508.0</td>\n",
       "      <td>128.0</td>\n",
       "      <td>360.0</td>\n",
       "      <td>1.0</td>\n",
       "      <td>Rural</td>\n",
       "      <td>N</td>\n",
       "    </tr>\n",
       "    <tr>\n",
       "      <th>2</th>\n",
       "      <td>LP001005</td>\n",
       "      <td>Male</td>\n",
       "      <td>Yes</td>\n",
       "      <td>0</td>\n",
       "      <td>Graduate</td>\n",
       "      <td>Yes</td>\n",
       "      <td>3000</td>\n",
       "      <td>0.0</td>\n",
       "      <td>66.0</td>\n",
       "      <td>360.0</td>\n",
       "      <td>1.0</td>\n",
       "      <td>Urban</td>\n",
       "      <td>Y</td>\n",
       "    </tr>\n",
       "    <tr>\n",
       "      <th>3</th>\n",
       "      <td>LP001006</td>\n",
       "      <td>Male</td>\n",
       "      <td>Yes</td>\n",
       "      <td>0</td>\n",
       "      <td>Not Graduate</td>\n",
       "      <td>No</td>\n",
       "      <td>2583</td>\n",
       "      <td>2358.0</td>\n",
       "      <td>120.0</td>\n",
       "      <td>360.0</td>\n",
       "      <td>1.0</td>\n",
       "      <td>Urban</td>\n",
       "      <td>Y</td>\n",
       "    </tr>\n",
       "    <tr>\n",
       "      <th>4</th>\n",
       "      <td>LP001008</td>\n",
       "      <td>Male</td>\n",
       "      <td>No</td>\n",
       "      <td>0</td>\n",
       "      <td>Graduate</td>\n",
       "      <td>No</td>\n",
       "      <td>6000</td>\n",
       "      <td>0.0</td>\n",
       "      <td>141.0</td>\n",
       "      <td>360.0</td>\n",
       "      <td>1.0</td>\n",
       "      <td>Urban</td>\n",
       "      <td>Y</td>\n",
       "    </tr>\n",
       "  </tbody>\n",
       "</table>\n",
       "</div>"
      ],
      "text/plain": [
       "    Loan_ID Gender Married Dependents     Education Self_Employed  \\\n",
       "0  LP001002   Male      No          0      Graduate            No   \n",
       "1  LP001003   Male     Yes          1      Graduate            No   \n",
       "2  LP001005   Male     Yes          0      Graduate           Yes   \n",
       "3  LP001006   Male     Yes          0  Not Graduate            No   \n",
       "4  LP001008   Male      No          0      Graduate            No   \n",
       "\n",
       "   ApplicantIncome  CoapplicantIncome  LoanAmount  Loan_Amount_Term  \\\n",
       "0             5849                0.0         NaN             360.0   \n",
       "1             4583             1508.0       128.0             360.0   \n",
       "2             3000                0.0        66.0             360.0   \n",
       "3             2583             2358.0       120.0             360.0   \n",
       "4             6000                0.0       141.0             360.0   \n",
       "\n",
       "   Credit_History Property_Area Loan_Status  \n",
       "0             1.0         Urban           Y  \n",
       "1             1.0         Rural           N  \n",
       "2             1.0         Urban           Y  \n",
       "3             1.0         Urban           Y  \n",
       "4             1.0         Urban           Y  "
      ]
     },
     "execution_count": 4,
     "metadata": {},
     "output_type": "execute_result"
    }
   ],
   "source": [
    "df=pd.read_csv('loan_prediction (1).csv')\n",
    "df.head()"
   ]
  },
  {
   "cell_type": "code",
   "execution_count": 5,
   "id": "a092cfa1-73d2-4489-913c-87cc824d5bb9",
   "metadata": {},
   "outputs": [
    {
     "data": {
      "text/plain": [
       "(614, 13)"
      ]
     },
     "execution_count": 5,
     "metadata": {},
     "output_type": "execute_result"
    }
   ],
   "source": [
    "df.shape"
   ]
  },
  {
   "cell_type": "markdown",
   "id": "cfec5caf-181c-4db7-8fe7-f252b3723f74",
   "metadata": {},
   "source": [
    "# Highly cardinal columns must be dropped like loan_id column because it has unique values and not helpful for analysing trends"
   ]
  },
  {
   "cell_type": "code",
   "execution_count": 6,
   "id": "101a4f22-91c6-4de2-8d19-2851d4a1bda7",
   "metadata": {},
   "outputs": [
    {
     "data": {
      "text/plain": [
       "Index(['Loan_ID', 'Gender', 'Married', 'Dependents', 'Education',\n",
       "       'Self_Employed', 'ApplicantIncome', 'CoapplicantIncome', 'LoanAmount',\n",
       "       'Loan_Amount_Term', 'Credit_History', 'Property_Area', 'Loan_Status'],\n",
       "      dtype='object')"
      ]
     },
     "execution_count": 6,
     "metadata": {},
     "output_type": "execute_result"
    }
   ],
   "source": [
    "df.columns"
   ]
  },
  {
   "cell_type": "code",
   "execution_count": 7,
   "id": "1af89bf7-c15e-4da1-9f06-c3bc74ade4c7",
   "metadata": {},
   "outputs": [],
   "source": [
    "df.drop(['Loan_ID'],axis = 1, inplace = True)"
   ]
  },
  {
   "cell_type": "markdown",
   "id": "65ffb0a0-485e-4999-858c-4479511c6769",
   "metadata": {},
   "source": [
    "# Checking duplicated values"
   ]
  },
  {
   "cell_type": "code",
   "execution_count": 8,
   "id": "59df56fe-2e15-414b-af08-5be5896c9349",
   "metadata": {},
   "outputs": [
    {
     "data": {
      "text/plain": [
       "0"
      ]
     },
     "execution_count": 8,
     "metadata": {},
     "output_type": "execute_result"
    }
   ],
   "source": [
    "df.duplicated().sum()"
   ]
  },
  {
   "cell_type": "code",
   "execution_count": 9,
   "id": "c2f9b930-f24b-40c3-a2eb-8495b4957729",
   "metadata": {},
   "outputs": [
    {
     "name": "stdout",
     "output_type": "stream",
     "text": [
      "<class 'pandas.core.frame.DataFrame'>\n",
      "RangeIndex: 614 entries, 0 to 613\n",
      "Data columns (total 12 columns):\n",
      " #   Column             Non-Null Count  Dtype  \n",
      "---  ------             --------------  -----  \n",
      " 0   Gender             601 non-null    object \n",
      " 1   Married            611 non-null    object \n",
      " 2   Dependents         599 non-null    object \n",
      " 3   Education          614 non-null    object \n",
      " 4   Self_Employed      582 non-null    object \n",
      " 5   ApplicantIncome    614 non-null    int64  \n",
      " 6   CoapplicantIncome  614 non-null    float64\n",
      " 7   LoanAmount         592 non-null    float64\n",
      " 8   Loan_Amount_Term   600 non-null    float64\n",
      " 9   Credit_History     564 non-null    float64\n",
      " 10  Property_Area      614 non-null    object \n",
      " 11  Loan_Status        614 non-null    object \n",
      "dtypes: float64(4), int64(1), object(7)\n",
      "memory usage: 57.7+ KB\n"
     ]
    }
   ],
   "source": [
    "df.info()"
   ]
  },
  {
   "cell_type": "markdown",
   "id": "a1e0c322-6a37-41a5-9915-a5dd711de290",
   "metadata": {},
   "source": [
    "# checking for null values"
   ]
  },
  {
   "cell_type": "code",
   "execution_count": 10,
   "id": "99a44691-39bf-4980-943c-3096f780e3b3",
   "metadata": {},
   "outputs": [
    {
     "data": {
      "text/plain": [
       "Gender               13\n",
       "Married               3\n",
       "Dependents           15\n",
       "Education             0\n",
       "Self_Employed        32\n",
       "ApplicantIncome       0\n",
       "CoapplicantIncome     0\n",
       "LoanAmount           22\n",
       "Loan_Amount_Term     14\n",
       "Credit_History       50\n",
       "Property_Area         0\n",
       "Loan_Status           0\n",
       "dtype: int64"
      ]
     },
     "execution_count": 10,
     "metadata": {},
     "output_type": "execute_result"
    }
   ],
   "source": [
    "df.isnull().sum()    "
   ]
  },
  {
   "cell_type": "markdown",
   "id": "6fbe5a76-9036-4730-8222-652950a3d418",
   "metadata": {},
   "source": [
    "# Lets fill the null values for numerical and categorical columns with mean, median and mode whichever is suitable"
   ]
  },
  {
   "cell_type": "code",
   "execution_count": 11,
   "id": "019aef2d-13c4-4d37-a444-8b5e70255305",
   "metadata": {},
   "outputs": [
    {
     "data": {
      "text/plain": [
       "array([ 1.,  0., nan])"
      ]
     },
     "execution_count": 11,
     "metadata": {},
     "output_type": "execute_result"
    }
   ],
   "source": [
    "df['Credit_History'].unique()"
   ]
  },
  {
   "cell_type": "code",
   "execution_count": 12,
   "id": "b26ecaec-23e1-4202-9476-c521bf2ce5a2",
   "metadata": {},
   "outputs": [],
   "source": [
    "\n",
    "df['Credit_History'].fillna(df['Credit_History'].mode()[0], inplace = True)"
   ]
  },
  {
   "cell_type": "code",
   "execution_count": 13,
   "id": "cefd41f0-938b-4555-94ef-880dae42b12e",
   "metadata": {},
   "outputs": [],
   "source": [
    "df['Gender'].fillna('Unknown', inplace =  True )"
   ]
  },
  {
   "cell_type": "code",
   "execution_count": 14,
   "id": "f8074487-21c6-46ba-9406-bd02209139eb",
   "metadata": {},
   "outputs": [
    {
     "data": {
      "text/plain": [
       "array(['No', 'Yes', nan], dtype=object)"
      ]
     },
     "execution_count": 14,
     "metadata": {},
     "output_type": "execute_result"
    }
   ],
   "source": [
    "df['Married'].unique()"
   ]
  },
  {
   "cell_type": "code",
   "execution_count": 15,
   "id": "3fe2ec4c-ba77-4994-b067-7b4a65614250",
   "metadata": {},
   "outputs": [],
   "source": [
    "df['Married'].fillna('NA', inplace = True)"
   ]
  },
  {
   "cell_type": "code",
   "execution_count": 16,
   "id": "6de3caf3-d273-4c3b-9841-6dd2dbd91944",
   "metadata": {},
   "outputs": [],
   "source": [
    "df['Dependents']=df['Dependents'].replace('3+','3')"
   ]
  },
  {
   "cell_type": "code",
   "execution_count": 17,
   "id": "90d78274-1982-4f78-ad98-c6b70350b3c7",
   "metadata": {},
   "outputs": [],
   "source": [
    "df['Dependents'].fillna(df['Dependents'].mode()[0], inplace = True)"
   ]
  },
  {
   "cell_type": "code",
   "execution_count": 18,
   "id": "8ab0b701-6e4d-4747-945f-f871f2a9cadb",
   "metadata": {},
   "outputs": [],
   "source": [
    "df['Self_Employed'].fillna('NA', inplace = True)"
   ]
  },
  {
   "cell_type": "code",
   "execution_count": 19,
   "id": "2cbb912d-8b25-4a29-b719-093230484443",
   "metadata": {},
   "outputs": [
    {
     "data": {
      "text/plain": [
       "array([360., 120., 240.,  nan, 180.,  60., 300., 480.,  36.,  84.,  12.])"
      ]
     },
     "execution_count": 19,
     "metadata": {},
     "output_type": "execute_result"
    }
   ],
   "source": [
    "df['Loan_Amount_Term'].unique()"
   ]
  },
  {
   "cell_type": "code",
   "execution_count": 20,
   "id": "543f410d-43ae-4801-b87f-88e9677a5596",
   "metadata": {},
   "outputs": [],
   "source": [
    "df['Loan_Amount_Term'].fillna(df['Loan_Amount_Term'].mode()[0], inplace = True)"
   ]
  },
  {
   "cell_type": "code",
   "execution_count": 21,
   "id": "047e7b16-470a-41e9-8713-f862a88bcb47",
   "metadata": {},
   "outputs": [
    {
     "data": {
      "text/plain": [
       "array([ nan, 128.,  66., 120., 141., 267.,  95., 158., 168., 349.,  70.,\n",
       "       109., 200., 114.,  17., 125., 100.,  76., 133., 115., 104., 315.,\n",
       "       116., 112., 151., 191., 122., 110.,  35., 201.,  74., 106., 320.,\n",
       "       144., 184.,  80.,  47.,  75., 134.,  96.,  88.,  44., 286.,  97.,\n",
       "       135., 180.,  99., 165., 258., 126., 312., 136., 172.,  81., 187.,\n",
       "       113., 176., 130., 111., 167., 265.,  50., 210., 175., 131., 188.,\n",
       "        25., 137., 160., 225., 216.,  94., 139., 152., 118., 185., 154.,\n",
       "        85., 259., 194.,  93., 370., 182., 650., 102., 290.,  84., 242.,\n",
       "       129.,  30., 244., 600., 255.,  98., 275., 121.,  63., 700.,  87.,\n",
       "       101., 495.,  67.,  73., 260., 108.,  58.,  48., 164., 170.,  83.,\n",
       "        90., 166., 124.,  55.,  59., 127., 214., 240.,  72.,  60., 138.,\n",
       "        42., 280., 140., 155., 123., 279., 192., 304., 330., 150., 207.,\n",
       "       436.,  78.,  54.,  89., 143., 105., 132., 480.,  56., 159., 300.,\n",
       "       376., 117.,  71., 490., 173.,  46., 228., 308., 236., 570., 380.,\n",
       "       296., 156., 103.,  45.,  65.,  53., 360.,  62., 218., 178., 239.,\n",
       "       405., 148., 190., 149., 153., 162., 230.,  86., 234., 246., 500.,\n",
       "       186., 119., 107., 209., 208., 243.,  40., 250., 311., 400., 161.,\n",
       "       196., 324., 157., 145., 181.,  26., 211.,   9., 205.,  36.,  61.,\n",
       "       146., 292., 142., 350., 496., 253.])"
      ]
     },
     "execution_count": 21,
     "metadata": {},
     "output_type": "execute_result"
    }
   ],
   "source": [
    "df['LoanAmount'].unique()"
   ]
  },
  {
   "cell_type": "code",
   "execution_count": 22,
   "id": "261ef140-42bd-483c-817d-4784d05364be",
   "metadata": {},
   "outputs": [
    {
     "data": {
      "text/plain": [
       "146.41216216216216"
      ]
     },
     "execution_count": 22,
     "metadata": {},
     "output_type": "execute_result"
    }
   ],
   "source": [
    "df[\"LoanAmount\"].mean()"
   ]
  },
  {
   "cell_type": "code",
   "execution_count": 23,
   "id": "a7cfda20-05c1-480f-a423-f579a285b0ad",
   "metadata": {},
   "outputs": [
    {
     "data": {
      "text/plain": [
       "128.0"
      ]
     },
     "execution_count": 23,
     "metadata": {},
     "output_type": "execute_result"
    }
   ],
   "source": [
    "df[\"LoanAmount\"].median()"
   ]
  },
  {
   "cell_type": "code",
   "execution_count": 24,
   "id": "a4e947f3-3cb6-4e5b-9917-acbc69767ffb",
   "metadata": {},
   "outputs": [],
   "source": [
    "df['LoanAmount'].fillna(df['LoanAmount'].median(), inplace = True)"
   ]
  },
  {
   "cell_type": "code",
   "execution_count": 25,
   "id": "e60f4a3d-cec0-48a1-b2d8-1c1bb69c5df7",
   "metadata": {},
   "outputs": [
    {
     "data": {
      "text/plain": [
       "Gender               0\n",
       "Married              0\n",
       "Dependents           0\n",
       "Education            0\n",
       "Self_Employed        0\n",
       "ApplicantIncome      0\n",
       "CoapplicantIncome    0\n",
       "LoanAmount           0\n",
       "Loan_Amount_Term     0\n",
       "Credit_History       0\n",
       "Property_Area        0\n",
       "Loan_Status          0\n",
       "dtype: int64"
      ]
     },
     "execution_count": 25,
     "metadata": {},
     "output_type": "execute_result"
    }
   ],
   "source": [
    "df.isnull().sum()"
   ]
  },
  {
   "cell_type": "code",
   "execution_count": 26,
   "id": "86abb59a-7b3e-4e4d-b113-17542cf1f037",
   "metadata": {},
   "outputs": [
    {
     "data": {
      "text/plain": [
       "0"
      ]
     },
     "execution_count": 26,
     "metadata": {},
     "output_type": "execute_result"
    }
   ],
   "source": [
    "df.isnull().sum().sum()"
   ]
  },
  {
   "cell_type": "markdown",
   "id": "7147833c-1170-4c58-9a5b-65ad2f99f62b",
   "metadata": {},
   "source": [
    "# Lets check for outliers in Numerical columns important for data analysis"
   ]
  },
  {
   "cell_type": "code",
   "execution_count": 27,
   "id": "d9b993c9-f51f-4002-9428-c6a5c3f2adf2",
   "metadata": {},
   "outputs": [
    {
     "data": {
      "text/plain": [
       "<Axes: ylabel='ApplicantIncome'>"
      ]
     },
     "execution_count": 27,
     "metadata": {},
     "output_type": "execute_result"
    },
    {
     "data": {
      "image/png": "[encoded data removed]",
      "text/plain": [
       "<Figure size 640x480 with 1 Axes>"
      ]
     },
     "metadata": {},
     "output_type": "display_data"
    }
   ],
   "source": [
    "sns.boxplot(df['ApplicantIncome'], color = 'b')"
   ]
  },
  {
   "cell_type": "code",
   "execution_count": 28,
   "id": "e0ec92a3-ab97-4798-93d3-ec39e2026be0",
   "metadata": {},
   "outputs": [
    {
     "data": {
      "text/plain": [
       "<Axes: ylabel='CoapplicantIncome'>"
      ]
     },
     "execution_count": 28,
     "metadata": {},
     "output_type": "execute_result"
    },
    {
     "data": {
      "image/png": "[encoded data removed]",
      "text/plain": [
       "<Figure size 640x480 with 1 Axes>"
      ]
     },
     "metadata": {},
     "output_type": "display_data"
    }
   ],
   "source": [
    "sns.boxplot(df['CoapplicantIncome'], color = 'cyan')"
   ]
  },
  {
   "cell_type": "code",
   "execution_count": 29,
   "id": "1ea5ac3d-c702-4dba-ae2e-1fd3c398860b",
   "metadata": {},
   "outputs": [
    {
     "data": {
      "text/plain": [
       "<Axes: xlabel='LoanAmount'>"
      ]
     },
     "execution_count": 29,
     "metadata": {},
     "output_type": "execute_result"
    },
    {
     "data": {
      "image/png": "[encoded data removed]",
      "text/plain": [
       "<Figure size 640x480 with 1 Axes>"
      ]
     },
     "metadata": {},
     "output_type": "display_data"
    }
   ],
   "source": [
    "sns.boxplot(x=df['LoanAmount'], color = 'b')"
   ]
  },
  {
   "cell_type": "markdown",
   "id": "3139bbba-b5f1-4b89-9985-5dead57e9e3c",
   "metadata": {},
   "source": [
    "# Now lets remove outliers in ApplicantIncome , Coapplicant Income and Loan Amount using IQR Method\n"
   ]
  },
  {
   "cell_type": "code",
   "execution_count": 31,
   "id": "3954057e-1a5b-41a6-9398-1d8c6cb8f006",
   "metadata": {},
   "outputs": [
    {
     "name": "stdout",
     "output_type": "stream",
     "text": [
      "q1_ApplicantIncome is: 2877.5\n",
      "q3_ApplicantIncome is: 5795.0\n"
     ]
    }
   ],
   "source": [
    "# lower quantile\n",
    "q1_ApplicantIncome = df['ApplicantIncome'].quantile(0.25)\n",
    "# upper quntile \n",
    "q3_ApplicantIncome = df['ApplicantIncome'].quantile(0.75)\n",
    "print('q1_ApplicantIncome is:', q1_ApplicantIncome)\n",
    "print('q3_ApplicantIncome is:', q3_ApplicantIncome)"
   ]
  },
  {
   "cell_type": "code",
   "execution_count": 32,
   "id": "01422fb1-d287-4e44-bd4d-462e51422f6d",
   "metadata": {},
   "outputs": [
    {
     "data": {
      "text/plain": [
       "2917.5"
      ]
     },
     "execution_count": 32,
     "metadata": {},
     "output_type": "execute_result"
    }
   ],
   "source": [
    "IQR = q3_ApplicantIncome - q1_ApplicantIncome\n",
    "IQR"
   ]
  },
  {
   "cell_type": "code",
   "execution_count": 33,
   "id": "9d321f79-f16b-43c7-bb58-6724aa96f369",
   "metadata": {},
   "outputs": [
    {
     "name": "stdout",
     "output_type": "stream",
     "text": [
      "-1498.75\n",
      "10171.25\n"
     ]
    }
   ],
   "source": [
    "# lower_limit\n",
    "lower_ApplicantIncome = q1_ApplicantIncome - 1.5*(IQR)\n",
    "# upper_limit\n",
    "upper_ApplicantIncome = q3_ApplicantIncome + 1.5*(IQR)\n",
    "print(lower_ApplicantIncome)\n",
    "print(upper_ApplicantIncome)"
   ]
  },
  {
   "cell_type": "code",
   "execution_count": 34,
   "id": "36cffe00-44b5-4f7d-ac74-a83d6b27d8c8",
   "metadata": {},
   "outputs": [],
   "source": [
    "new_df = df[(df['ApplicantIncome'] <= upper_ApplicantIncome)]"
   ]
  },
  {
   "cell_type": "markdown",
   "id": "ef5c398b-84b0-4bfd-ba27-6dc3d5638c90",
   "metadata": {},
   "source": [
    "# lets check for assurity how many outlier i am removing"
   ]
  },
  {
   "cell_type": "code",
   "execution_count": 35,
   "id": "a32f6aea-66e0-4bfd-9665-e8f60222b9cb",
   "metadata": {},
   "outputs": [
    {
     "name": "stdout",
     "output_type": "stream",
     "text": [
      "Number of outliers: 50\n"
     ]
    }
   ],
   "source": [
    "print(\"Number of outliers:\", df[df['ApplicantIncome'] > 10171.25].shape[0])"
   ]
  },
  {
   "cell_type": "code",
   "execution_count": 36,
   "id": "5ae2ef28-4323-426c-b708-e90952082b36",
   "metadata": {},
   "outputs": [
    {
     "data": {
      "text/plain": [
       "<Axes: ylabel='ApplicantIncome'>"
      ]
     },
     "execution_count": 36,
     "metadata": {},
     "output_type": "execute_result"
    },
    {
     "data": {
      "image/png": "[encoded data removed]",
      "text/plain": [
       "<Figure size 640x480 with 1 Axes>"
      ]
     },
     "metadata": {},
     "output_type": "display_data"
    }
   ],
   "source": [
    "sns.boxplot(new_df['ApplicantIncome'], color = 'cyan')"
   ]
  },
  {
   "cell_type": "markdown",
   "id": "8aa4a119-30ed-46ed-a32b-ddfa83714639",
   "metadata": {},
   "source": [
    "# I am still getting outliers that means there is high skewness in the ApplicantIncome column"
   ]
  },
  {
   "cell_type": "code",
   "execution_count": 37,
   "id": "84121682-428a-41de-a8e6-3abdb17044c8",
   "metadata": {},
   "outputs": [
    {
     "data": {
      "text/plain": [
       "6.539513113994625"
      ]
     },
     "execution_count": 37,
     "metadata": {},
     "output_type": "execute_result"
    }
   ],
   "source": [
    "df['ApplicantIncome'].skew()              # very high skewness"
   ]
  },
  {
   "cell_type": "code",
   "execution_count": null,
   "id": "02feb39f-faac-4aea-b85f-336f8a0da58e",
   "metadata": {},
   "outputs": [],
   "source": []
  },
  {
   "cell_type": "markdown",
   "id": "be9df985-15bd-45b7-ae0e-aea43c9c2429",
   "metadata": {},
   "source": [
    "# Now lets remove the outliers in the CoapplicantIncome column"
   ]
  },
  {
   "cell_type": "code",
   "execution_count": 39,
   "id": "a65953c9-5532-40b1-8060-f13e600ebbee",
   "metadata": {},
   "outputs": [
    {
     "name": "stdout",
     "output_type": "stream",
     "text": [
      "q1_CoapplicantIncome is: 0.0\n",
      "q3_CopplicantIncome is: 2297.25\n"
     ]
    }
   ],
   "source": [
    "# lower quantile\n",
    "q1_CoapplicantIncome = df['CoapplicantIncome'].quantile(0.25)\n",
    "# upper quntile \n",
    "q3_CoapplicantIncome = df['CoapplicantIncome'].quantile(0.75)\n",
    "print('q1_CoapplicantIncome is:', q1_CoapplicantIncome)\n",
    "print('q3_CopplicantIncome is:', q3_CoapplicantIncome)"
   ]
  },
  {
   "cell_type": "code",
   "execution_count": 40,
   "id": "d729c6b8-9ef8-48b8-9b7e-d8d56e2b98a0",
   "metadata": {},
   "outputs": [
    {
     "data": {
      "text/plain": [
       "2297.25"
      ]
     },
     "execution_count": 40,
     "metadata": {},
     "output_type": "execute_result"
    }
   ],
   "source": [
    "IQR_2 = q3_CoapplicantIncome - q1_CoapplicantIncome\n",
    "IQR_2"
   ]
  },
  {
   "cell_type": "code",
   "execution_count": 41,
   "id": "76c9a987-20c0-46df-bfc2-68d2939c480b",
   "metadata": {},
   "outputs": [
    {
     "name": "stdout",
     "output_type": "stream",
     "text": [
      "-4376.25\n",
      "6673.5\n"
     ]
    }
   ],
   "source": [
    "# lower_limit\n",
    "lower_CoapplicantIncome = q1_CoapplicantIncome - 1.5*(IQR)\n",
    "# upper_limit\n",
    "upper_CoapplicantIncome = q3_CoapplicantIncome + 1.5*(IQR)\n",
    "print(lower_CoapplicantIncome)\n",
    "print(upper_CoapplicantIncome)"
   ]
  },
  {
   "cell_type": "code",
   "execution_count": 42,
   "id": "fccd0793-623a-4a02-8439-cdc972edaca4",
   "metadata": {},
   "outputs": [],
   "source": [
    "new_df1 = df[(df['CoapplicantIncome'] <= upper_CoapplicantIncome)]"
   ]
  },
  {
   "cell_type": "code",
   "execution_count": 44,
   "id": "71cbaf2f-6225-4649-b67d-88fe2843ce18",
   "metadata": {},
   "outputs": [
    {
     "data": {
      "text/plain": [
       "<Axes: ylabel='CoapplicantIncome'>"
      ]
     },
     "execution_count": 44,
     "metadata": {},
     "output_type": "execute_result"
    },
    {
     "data": {
      "image/png": "[encoded data removed]",
      "text/plain": [
       "<Figure size 640x480 with 1 Axes>"
      ]
     },
     "metadata": {},
     "output_type": "display_data"
    }
   ],
   "source": [
    "sns.boxplot(new_df1['CoapplicantIncome'], color = 'cyan')"
   ]
  },
  {
   "cell_type": "markdown",
   "id": "e3861734-c01b-4625-aeb7-1ef7be3ce5aa",
   "metadata": {},
   "source": [
    "# Some outliers are still there that there are chances that CoapplicantIncome Column has skewness"
   ]
  },
  {
   "cell_type": "code",
   "execution_count": 46,
   "id": "81be9973-10e6-4247-96c9-ad33da75bbaf",
   "metadata": {},
   "outputs": [
    {
     "data": {
      "text/plain": [
       "7.491531216657306"
      ]
     },
     "execution_count": 46,
     "metadata": {},
     "output_type": "execute_result"
    }
   ],
   "source": [
    "df['CoapplicantIncome'].skew()                          # very high skewness"
   ]
  },
  {
   "cell_type": "code",
   "execution_count": null,
   "id": "1298fc3e-9ed5-4ace-8d8d-3e3278117ff2",
   "metadata": {},
   "outputs": [],
   "source": []
  },
  {
   "cell_type": "markdown",
   "id": "9f3c2cbf-1bd8-45e9-bc36-987d604623d1",
   "metadata": {},
   "source": [
    "# Now lets apply remove the outliers in the LoanAmount column"
   ]
  },
  {
   "cell_type": "code",
   "execution_count": 48,
   "id": "725bd36b-0e97-453c-8a99-d2a0b670050e",
   "metadata": {},
   "outputs": [
    {
     "name": "stdout",
     "output_type": "stream",
     "text": [
      "q1_LoanAmount: 100.25\n",
      "q3_LoanAmount is: 164.75\n"
     ]
    }
   ],
   "source": [
    "# lower quantile\n",
    "q1_LoanAmount = df['LoanAmount'].quantile(0.25)\n",
    "# upper quntile \n",
    "q3_LoanAmount = df['LoanAmount'].quantile(0.75)\n",
    "print('q1_LoanAmount:', q1_LoanAmount)\n",
    "print('q3_LoanAmount is:', q3_LoanAmount)"
   ]
  },
  {
   "cell_type": "code",
   "execution_count": 49,
   "id": "472f86a2-9899-4990-b485-37b9a8d46f3d",
   "metadata": {},
   "outputs": [
    {
     "data": {
      "text/plain": [
       "64.5"
      ]
     },
     "execution_count": 49,
     "metadata": {},
     "output_type": "execute_result"
    }
   ],
   "source": [
    "IQR_LoanAmount = q3_LoanAmount - q1_LoanAmount\n",
    "IQR_LoanAmount"
   ]
  },
  {
   "cell_type": "code",
   "execution_count": 50,
   "id": "5cd3f651-8a9e-4788-94a7-f637d0ceeb57",
   "metadata": {},
   "outputs": [
    {
     "name": "stdout",
     "output_type": "stream",
     "text": [
      "3.5\n",
      "261.5\n"
     ]
    }
   ],
   "source": [
    "# lower_limit\n",
    "lower_LoanAmount_limit = q1_LoanAmount - 1.5*(IQR_LoanAmount)\n",
    "# upper_limit\n",
    "upper_LoanAmount_limit = q3_LoanAmount + 1.5*(IQR_LoanAmount)\n",
    "print(lower_LoanAmount_limit)\n",
    "print(upper_LoanAmount_limit)"
   ]
  },
  {
   "cell_type": "code",
   "execution_count": 51,
   "id": "9736b5ae-8fac-4ff5-8826-8800b61512f4",
   "metadata": {},
   "outputs": [],
   "source": [
    "new_df2 = df[(df['LoanAmount'] >= lower_LoanAmount_limit) & (df['LoanAmount'] <= upper_LoanAmount_limit)]\n"
   ]
  },
  {
   "cell_type": "code",
   "execution_count": 52,
   "id": "2e1bba18-3360-4029-aaef-7e1086271f9c",
   "metadata": {},
   "outputs": [
    {
     "data": {
      "text/plain": [
       "<Axes: ylabel='LoanAmount'>"
      ]
     },
     "execution_count": 52,
     "metadata": {},
     "output_type": "execute_result"
    },
    {
     "data": {
      "image/png": "[encoded data removed]",
      "text/plain": [
       "<Figure size 640x480 with 1 Axes>"
      ]
     },
     "metadata": {},
     "output_type": "display_data"
    }
   ],
   "source": [
    "sns.boxplot(new_df2['LoanAmount'], color = 'b')"
   ]
  },
  {
   "cell_type": "markdown",
   "id": "5ecbc2b8-1e5f-497c-b407-a9c0c687e1f9",
   "metadata": {},
   "source": [
    "# Still some outliers left in the loan amount column. That means in this column too there are chances of skewness\n"
   ]
  },
  {
   "cell_type": "code",
   "execution_count": 54,
   "id": "d29f9073-668e-46a5-ac02-fe2b5a66062d",
   "metadata": {},
   "outputs": [
    {
     "data": {
      "text/plain": [
       "2.743052748820892"
      ]
     },
     "execution_count": 54,
     "metadata": {},
     "output_type": "execute_result"
    }
   ],
   "source": [
    "df['LoanAmount'].skew()             # positively skewed"
   ]
  },
  {
   "cell_type": "code",
   "execution_count": null,
   "id": "5fd25445-64ba-4d66-8609-bdf798b50c41",
   "metadata": {},
   "outputs": [],
   "source": []
  },
  {
   "cell_type": "markdown",
   "id": "c5d89952-6434-4dba-a86b-76593538d48c",
   "metadata": {},
   "source": [
    "# lets make some visulaization to find distribution and trends in data after removing outliers\n"
   ]
  },
  {
   "cell_type": "code",
   "execution_count": null,
   "id": "58cfd900-db0c-4e22-ad59-4413ebf422c9",
   "metadata": {},
   "outputs": [],
   "source": []
  },
  {
   "cell_type": "markdown",
   "id": "d97a6b6c-ce92-4774-bea3-745f461257c7",
   "metadata": {},
   "source": [
    "# Avg Loan Amount by self -employed status"
   ]
  },
  {
   "cell_type": "code",
   "execution_count": 190,
   "id": "30cd1758-e4bc-4765-875f-21be3782b1fc",
   "metadata": {},
   "outputs": [
    {
     "data": {
      "text/plain": [
       "Self_Employed\n",
       "NA     125.793103\n",
       "No     126.819533\n",
       "Yes    140.287671\n",
       "Name: LoanAmount, dtype: float64"
      ]
     },
     "execution_count": 190,
     "metadata": {},
     "output_type": "execute_result"
    }
   ],
   "source": [
    "avg_loan_by_Emp = new_df2.groupby('Self_Employed')['LoanAmount'].mean()\n",
    "avg_loan_by_Emp"
   ]
  },
  {
   "cell_type": "code",
   "execution_count": 192,
   "id": "faf1b937-54e4-44a0-9eb5-95123cff1b8c",
   "metadata": {},
   "outputs": [
    {
     "data": {
      "image/png": "[encoded data removed]",
      "text/plain": [
       "<Figure size 600x400 with 1 Axes>"
      ]
     },
     "metadata": {},
     "output_type": "display_data"
    }
   ],
   "source": [
    "avg_loan_by_Emp.plot( kind = 'bar', color = 'seagreen', figsize = (6,4))\n",
    "plt.title('Avg_Loan_Amount_by_Employment_Type')\n",
    "plt.xlabel('Self_Employed')\n",
    "plt.ylabel('Avg_Loan_Amount')\n",
    "plt.tight_layout()\n",
    "plt.show()"
   ]
  },
  {
   "cell_type": "markdown",
   "id": "a3061b44-982e-4e41-ba0c-89f8c6b79d49",
   "metadata": {},
   "source": [
    "# insights from upper visualization - Self-employed people generally request or get larger loans."
   ]
  },
  {
   "cell_type": "code",
   "execution_count": null,
   "id": "5f5f6065-3b72-4756-94d7-ba3b2bbef191",
   "metadata": {},
   "outputs": [],
   "source": []
  },
  {
   "cell_type": "markdown",
   "id": "9df79b87-8e7c-4663-83ee-95b60be33dec",
   "metadata": {},
   "source": [
    "# Loan approval rate by education"
   ]
  },
  {
   "cell_type": "code",
   "execution_count": 172,
   "id": "b9e76492-59c0-4ba9-87d9-fc5ecde935a2",
   "metadata": {},
   "outputs": [
    {
     "data": {
      "text/html": [
       "<div>\n",
       "<style scoped>\n",
       "    .dataframe tbody tr th:only-of-type {\n",
       "        vertical-align: middle;\n",
       "    }\n",
       "\n",
       "    .dataframe tbody tr th {\n",
       "        vertical-align: top;\n",
       "    }\n",
       "\n",
       "    .dataframe thead th {\n",
       "        text-align: right;\n",
       "    }\n",
       "</style>\n",
       "<table border=\"1\" class=\"dataframe\">\n",
       "  <thead>\n",
       "    <tr style=\"text-align: right;\">\n",
       "      <th></th>\n",
       "      <th>Education</th>\n",
       "      <th>Loan_Status</th>\n",
       "      <th>Count</th>\n",
       "    </tr>\n",
       "  </thead>\n",
       "  <tbody>\n",
       "    <tr>\n",
       "      <th>0</th>\n",
       "      <td>Graduate</td>\n",
       "      <td>Y</td>\n",
       "      <td>309</td>\n",
       "    </tr>\n",
       "    <tr>\n",
       "      <th>1</th>\n",
       "      <td>Graduate</td>\n",
       "      <td>N</td>\n",
       "      <td>123</td>\n",
       "    </tr>\n",
       "    <tr>\n",
       "      <th>2</th>\n",
       "      <td>Not Graduate</td>\n",
       "      <td>Y</td>\n",
       "      <td>80</td>\n",
       "    </tr>\n",
       "    <tr>\n",
       "      <th>3</th>\n",
       "      <td>Not Graduate</td>\n",
       "      <td>N</td>\n",
       "      <td>52</td>\n",
       "    </tr>\n",
       "  </tbody>\n",
       "</table>\n",
       "</div>"
      ],
      "text/plain": [
       "      Education Loan_Status  Count\n",
       "0      Graduate           Y    309\n",
       "1      Graduate           N    123\n",
       "2  Not Graduate           Y     80\n",
       "3  Not Graduate           N     52"
      ]
     },
     "execution_count": 172,
     "metadata": {},
     "output_type": "execute_result"
    }
   ],
   "source": [
    "\n",
    "approval_rate = new_df.groupby('Education')['Loan_Status'].value_counts().reset_index(name='Count')\n",
    "approval_rate"
   ]
  },
  {
   "cell_type": "code",
   "execution_count": 174,
   "id": "4ea3300a-e1df-4c79-a4ef-f141155c94c5",
   "metadata": {},
   "outputs": [
    {
     "data": {
      "text/plain": [
       "array(['Graduate', 'Not Graduate'], dtype=object)"
      ]
     },
     "execution_count": 174,
     "metadata": {},
     "output_type": "execute_result"
    }
   ],
   "source": [
    "df['Education'].unique()\n"
   ]
  },
  {
   "cell_type": "code",
   "execution_count": 176,
   "id": "a61b601b-00ff-4e5a-97a8-2f17832fc3a4",
   "metadata": {},
   "outputs": [
    {
     "data": {
      "image/png": "[encoded data removed]",
      "text/plain": [
       "<Figure size 640x480 with 1 Axes>"
      ]
     },
     "metadata": {},
     "output_type": "display_data"
    }
   ],
   "source": [
    "sns.barplot(data = approval_rate, x = 'Education', y='Count', hue='Loan_Status')\n",
    "\n",
    "plt.title('Loan Approval Count By Education')\n",
    "plt.xlabel('Education')\n",
    "plt.ylabel('Number of Applicants')\n",
    "plt.tight_layout()\n",
    "plt.show()"
   ]
  },
  {
   "cell_type": "markdown",
   "id": "7368972e-b158-4d7e-a3df-86f326b2ec1b",
   "metadata": {},
   "source": [
    "# Insights from the upper barchart -- No. of applicants who got their loan approved are graduates while not graduate applicants has lower approvals"
   ]
  },
  {
   "cell_type": "code",
   "execution_count": null,
   "id": "10ecf6b1-c70f-410d-accd-44db8569904c",
   "metadata": {},
   "outputs": [],
   "source": []
  },
  {
   "cell_type": "markdown",
   "id": "04a02c30-8994-41ff-a9d5-3a21287897d3",
   "metadata": {},
   "source": [
    "# Avg applicant income by loan_status"
   ]
  },
  {
   "cell_type": "code",
   "execution_count": 182,
   "id": "48010c2d-2bf0-4891-bd6c-0ec4da25ae17",
   "metadata": {},
   "outputs": [
    {
     "data": {
      "text/plain": [
       "Loan_Status\n",
       "N    4079.348571\n",
       "Y    4145.136247\n",
       "Name: ApplicantIncome, dtype: float64"
      ]
     },
     "execution_count": 182,
     "metadata": {},
     "output_type": "execute_result"
    }
   ],
   "source": [
    "avg_applicant_income_loan_status = new_df.groupby('Loan_Status')['ApplicantIncome'].mean()\n",
    "avg_applicant_income_loan_status"
   ]
  },
  {
   "cell_type": "code",
   "execution_count": 184,
   "id": "9f5c2697-0ccf-4721-bfbd-19672bcabfb4",
   "metadata": {},
   "outputs": [
    {
     "data": {
      "text/html": [
       "<div>\n",
       "<style scoped>\n",
       "    .dataframe tbody tr th:only-of-type {\n",
       "        vertical-align: middle;\n",
       "    }\n",
       "\n",
       "    .dataframe tbody tr th {\n",
       "        vertical-align: top;\n",
       "    }\n",
       "\n",
       "    .dataframe thead th {\n",
       "        text-align: right;\n",
       "    }\n",
       "</style>\n",
       "<table border=\"1\" class=\"dataframe\">\n",
       "  <thead>\n",
       "    <tr style=\"text-align: right;\">\n",
       "      <th></th>\n",
       "      <th>Loan_Status</th>\n",
       "      <th>Avg Applicant Income</th>\n",
       "    </tr>\n",
       "  </thead>\n",
       "  <tbody>\n",
       "    <tr>\n",
       "      <th>0</th>\n",
       "      <td>N</td>\n",
       "      <td>4079.348571</td>\n",
       "    </tr>\n",
       "    <tr>\n",
       "      <th>1</th>\n",
       "      <td>Y</td>\n",
       "      <td>4145.136247</td>\n",
       "    </tr>\n",
       "  </tbody>\n",
       "</table>\n",
       "</div>"
      ],
      "text/plain": [
       "  Loan_Status  Avg Applicant Income\n",
       "0           N           4079.348571\n",
       "1           Y           4145.136247"
      ]
     },
     "execution_count": 184,
     "metadata": {},
     "output_type": "execute_result"
    }
   ],
   "source": [
    "# converting it to a datafame to create a barchart\n",
    "df_avg_applicant_income_loan_status = avg_applicant_income_loan_status.reset_index(name = 'Avg Applicant Income')\n",
    "df_avg_applicant_income_loan_status"
   ]
  },
  {
   "cell_type": "code",
   "execution_count": 186,
   "id": "0120108e-5cfa-4a79-ba10-178833c57c0f",
   "metadata": {},
   "outputs": [
    {
     "data": {
      "image/png": "[encoded data removed]",
      "text/plain": [
       "<Figure size 600x400 with 1 Axes>"
      ]
     },
     "metadata": {},
     "output_type": "display_data"
    }
   ],
   "source": [
    "plt.figure(figsize = (6,4))\n",
    "sns.barplot(data = df_avg_applicant_income_loan_status, x = 'Loan_Status', y ='Avg Applicant Income')\n",
    "plt.xlabel('Loan Status')\n",
    "plt.ylabel('Avg Applicant Income')\n",
    "plt.title('Average Applicants Income By Loan Status')\n",
    "plt.tight_layout()\n",
    "plt.show()"
   ]
  },
  {
   "cell_type": "markdown",
   "id": "da3d27c8-8217-4f70-b8d3-8635d164ac63",
   "metadata": {},
   "source": [
    "# insights from the upper barchar --- Income may not play a significant role in loan decisions on its own as the difference is very low\n",
    "# The decision might depend more on coapplicant income, loan amount, credit history, or property area."
   ]
  },
  {
   "cell_type": "code",
   "execution_count": null,
   "id": "45a4dafc-be7d-4995-945b-1e91e3691033",
   "metadata": {},
   "outputs": [],
   "source": []
  },
  {
   "cell_type": "markdown",
   "id": "3c7d6597-4ed7-4a7c-ac42-16c93530292f",
   "metadata": {},
   "source": [
    "# Lets visualize now Gender distribution"
   ]
  },
  {
   "cell_type": "code",
   "execution_count": 67,
   "id": "640397e4-c04d-49b1-b92d-a30ea8fd7caa",
   "metadata": {},
   "outputs": [
    {
     "data": {
      "text/plain": [
       "Gender\n",
       "Male       489\n",
       "Female     112\n",
       "Unknown     13\n",
       "Name: count, dtype: int64"
      ]
     },
     "execution_count": 67,
     "metadata": {},
     "output_type": "execute_result"
    }
   ],
   "source": [
    "\n",
    "Gender_distribution = df['Gender'].value_counts()\n",
    "Gender_distribution"
   ]
  },
  {
   "cell_type": "code",
   "execution_count": 68,
   "id": "343b74d0-b898-412f-94f9-2a1829ba5395",
   "metadata": {},
   "outputs": [
    {
     "data": {
      "image/png": "[encoded data removed]",
      "text/plain": [
       "<Figure size 640x480 with 1 Axes>"
      ]
     },
     "metadata": {},
     "output_type": "display_data"
    }
   ],
   "source": [
    "Gender_distribution.plot(kind = 'pie', autopct = '%1.1f%%', shadow = True, )\n",
    "plt.title('Gender Distribution')\n",
    "plt.show()\n",
    "\n"
   ]
  },
  {
   "cell_type": "markdown",
   "id": "b669d598-6f89-4256-818d-2f19e9b83ba7",
   "metadata": {},
   "source": [
    "# Insigts from the pie chart -- Male applicants for loan are covering 80% of the applicants list"
   ]
  },
  {
   "cell_type": "code",
   "execution_count": null,
   "id": "1fd07b0a-2031-4c3a-9d9e-e8eb5a71c369",
   "metadata": {},
   "outputs": [],
   "source": []
  },
  {
   "cell_type": "markdown",
   "id": "33d7e274-d13e-45b3-9ee1-ef75ccb1ba79",
   "metadata": {},
   "source": [
    "# lets create a countplot to check areaswise distribution of applicants"
   ]
  },
  {
   "cell_type": "code",
   "execution_count": 70,
   "id": "6f1e7bfa-3990-4bbb-802e-ad6722f6f9ae",
   "metadata": {},
   "outputs": [
    {
     "data": {
      "text/plain": [
       "<Axes: xlabel='count', ylabel='Property_Area'>"
      ]
     },
     "execution_count": 70,
     "metadata": {},
     "output_type": "execute_result"
    },
    {
     "data": {
      "image/png": "[encoded data removed]",
      "text/plain": [
       "<Figure size 640x480 with 1 Axes>"
      ]
     },
     "metadata": {},
     "output_type": "display_data"
    }
   ],
   "source": [
    "sns.countplot(df['Property_Area'])"
   ]
  },
  {
   "cell_type": "markdown",
   "id": "ea36dbae-212d-4ac0-8a2c-485b6c4cf404",
   "metadata": {},
   "source": [
    "# now lets deal with skewness in the ApplicantIncome, CoapplicantIncome and LoanAmount columns"
   ]
  },
  {
   "cell_type": "code",
   "execution_count": 72,
   "id": "20573b5f-f73c-4049-9fe8-c081356225b4",
   "metadata": {},
   "outputs": [
    {
     "data": {
      "text/plain": [
       "<Axes: xlabel='ApplicantIncome', ylabel='Density'>"
      ]
     },
     "execution_count": 72,
     "metadata": {},
     "output_type": "execute_result"
    },
    {
     "data": {
      "image/png": "[encoded data removed]",
      "text/plain": [
       "<Figure size 640x480 with 1 Axes>"
      ]
     },
     "metadata": {},
     "output_type": "display_data"
    }
   ],
   "source": [
    "sns.distplot(df['ApplicantIncome'], kde = True)"
   ]
  },
  {
   "cell_type": "markdown",
   "id": "a9b81c0c-4e3e-4035-acfa-ee4c67002cc3",
   "metadata": {},
   "source": [
    "# There is a long tail on the right side. That means data is Right Skewed(positively skewed) because most of the values are clustered to the left.\n"
   ]
  },
  {
   "cell_type": "markdown",
   "id": "aaff713f-4b36-4c58-8e3d-3cdde13a0996",
   "metadata": {},
   "source": [
    "# Now lets reduce the skewness using log function in ApplicantIncome,CoapplicantIncome and LoanAmount"
   ]
  },
  {
   "cell_type": "code",
   "execution_count": 74,
   "id": "3bbf5fd9-1e3f-447a-9038-fd84deb9281f",
   "metadata": {},
   "outputs": [],
   "source": [
    "df['ApplicantIncome'] = np.log1p(df['ApplicantIncome'])"
   ]
  },
  {
   "cell_type": "code",
   "execution_count": 75,
   "id": "1dc919f4-75ea-4649-8726-6746eb76c9b9",
   "metadata": {},
   "outputs": [
    {
     "data": {
      "text/plain": [
       "0.4821279953732817"
      ]
     },
     "execution_count": 75,
     "metadata": {},
     "output_type": "execute_result"
    }
   ],
   "source": [
    "df['ApplicantIncome'].skew()"
   ]
  },
  {
   "cell_type": "code",
   "execution_count": 76,
   "id": "42043ffe-1ea3-4aef-bb15-402056e3a541",
   "metadata": {},
   "outputs": [
    {
     "data": {
      "text/plain": [
       "7.491531216657306"
      ]
     },
     "execution_count": 76,
     "metadata": {},
     "output_type": "execute_result"
    }
   ],
   "source": [
    "df['CoapplicantIncome'].skew()"
   ]
  },
  {
   "cell_type": "code",
   "execution_count": 77,
   "id": "fd5fd5fb-4229-464d-aef1-37402ce787de",
   "metadata": {},
   "outputs": [],
   "source": [
    "df['CoapplicantIncome']=np.log1p(df['CoapplicantIncome'])"
   ]
  },
  {
   "cell_type": "code",
   "execution_count": 78,
   "id": "6195b4a1-2c18-4a0e-b1a4-117666bcfaef",
   "metadata": {},
   "outputs": [
    {
     "data": {
      "text/plain": [
       "-0.17307327599230946"
      ]
     },
     "execution_count": 78,
     "metadata": {},
     "output_type": "execute_result"
    }
   ],
   "source": [
    "df['CoapplicantIncome'].skew()"
   ]
  },
  {
   "cell_type": "code",
   "execution_count": 79,
   "id": "d92b2932-0083-4d81-a278-5eacb10eabc5",
   "metadata": {},
   "outputs": [
    {
     "data": {
      "text/plain": [
       "2.743052748820892"
      ]
     },
     "execution_count": 79,
     "metadata": {},
     "output_type": "execute_result"
    }
   ],
   "source": [
    "df['LoanAmount'].skew()"
   ]
  },
  {
   "cell_type": "code",
   "execution_count": 80,
   "id": "4d6e23b2-1298-4f7c-a3e5-c332eaf02943",
   "metadata": {},
   "outputs": [
    {
     "data": {
      "text/plain": [
       "-0.15157750539614048"
      ]
     },
     "execution_count": 80,
     "metadata": {},
     "output_type": "execute_result"
    }
   ],
   "source": [
    "df['LoanAmount'] = np.log1p(df['LoanAmount'])\n",
    "df['LoanAmount'].skew()"
   ]
  },
  {
   "cell_type": "code",
   "execution_count": null,
   "id": "3a346348-a4ff-45e0-884d-4fd3b0eb58bc",
   "metadata": {},
   "outputs": [],
   "source": []
  },
  {
   "cell_type": "markdown",
   "id": "d4565a74-38be-445f-b567-9525109cef8b",
   "metadata": {},
   "source": [
    "# Histplot after removing skewness in ApplicantIncome and LoanAmount shows the graph has become normally distributed bell shaped to some extent after removing skewness"
   ]
  },
  {
   "cell_type": "code",
   "execution_count": 81,
   "id": "eb8c86e4-1106-463b-982f-1bba0d471d27",
   "metadata": {},
   "outputs": [
    {
     "data": {
      "text/plain": [
       "<Axes: xlabel='ApplicantIncome', ylabel='Count'>"
      ]
     },
     "execution_count": 81,
     "metadata": {},
     "output_type": "execute_result"
    },
    {
     "data": {
      "image/png": "[encoded data removed]",
      "text/plain": [
       "<Figure size 640x480 with 1 Axes>"
      ]
     },
     "metadata": {},
     "output_type": "display_data"
    }
   ],
   "source": [
    "sns.histplot(df['ApplicantIncome'], bins = 30, kde=True, color = 'purple')\n"
   ]
  },
  {
   "cell_type": "code",
   "execution_count": 82,
   "id": "b83cabf1-7891-431a-b342-8cc60c573a64",
   "metadata": {},
   "outputs": [
    {
     "data": {
      "text/plain": [
       "<Axes: xlabel='LoanAmount', ylabel='Count'>"
      ]
     },
     "execution_count": 82,
     "metadata": {},
     "output_type": "execute_result"
    },
    {
     "data": {
      "image/png": "[encoded data removed]",
      "text/plain": [
       "<Figure size 640x480 with 1 Axes>"
      ]
     },
     "metadata": {},
     "output_type": "display_data"
    }
   ],
   "source": [
    "sns.histplot(df['LoanAmount'],bins = 20,  kde= True, color = 'red')"
   ]
  },
  {
   "cell_type": "code",
   "execution_count": null,
   "id": "2a878d45-082d-41e0-afb8-6d9085cb2b22",
   "metadata": {},
   "outputs": [],
   "source": []
  }
 ],
 "metadata": {
  "kernelspec": {
   "display_name": "Python [conda env:base] *",
   "language": "python",
   "name": "conda-base-py"
  },
  "language_info": {
   "codemirror_mode": {
    "name": "ipython",
    "version": 3
   },
   "file_extension": ".py",
   "mimetype": "text/x-python",
   "name": "python",
   "nbconvert_exporter": "python",
   "pygments_lexer": "ipython3",
   "version": "3.12.7"
  }
 },
 "nbformat": 4,
 "nbformat_minor": 5
}
